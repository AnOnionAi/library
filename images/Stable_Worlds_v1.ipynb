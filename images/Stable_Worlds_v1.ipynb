{
  "cells": [
    {
      "cell_type": "markdown",
      "metadata": {
        "id": "view-in-github",
        "colab_type": "text"
      },
      "source": [
        "<a href=\"https://colab.research.google.com/github/ZetiAi/library/blob/master/Stable_Worlds_v1.ipynb\" target=\"_parent\"><img src=\"https://colab.research.google.com/assets/colab-badge.svg\" alt=\"Open In Colab\"/></a>"
      ]
    },
    {
      "cell_type": "code",
      "execution_count": null,
      "metadata": {
        "id": "WDpO3TK_PMT8"
      },
      "outputs": [],
      "source": [
        "!nvidia-smi"
      ]
    },
    {
      "cell_type": "code",
      "execution_count": null,
      "metadata": {
        "id": "qufeZAvwPXmb"
      },
      "outputs": [],
      "source": [
        "!pip install -qU diffusers transformers scipy ftfy ipywidgets"
      ]
    },
    {
      "cell_type": "code",
      "execution_count": null,
      "metadata": {
        "id": "ZSIfJqEAPbTQ"
      },
      "outputs": [],
      "source": [
        "# https://huggingface.co/settings/tokens\n",
        "!mkdir -p ~/.huggingface\n",
        "!echo -n \"<your-token>\" > ~/.huggingface/token"
      ]
    },
    {
      "cell_type": "code",
      "execution_count": null,
      "metadata": {
        "id": "P-1GOhSyR62T"
      },
      "outputs": [],
      "source": [
        "from tqdm import tqdm, notebook\n",
        "\n",
        "notebook.tqdm = tqdm"
      ]
    },
    {
      "cell_type": "code",
      "execution_count": null,
      "metadata": {
        "id": "NFkC_Yf0Pi0t"
      },
      "outputs": [],
      "source": [
        "import torch\n",
        "\n",
        "torch.set_grad_enabled(False)"
      ]
    },
    {
      "cell_type": "code",
      "execution_count": null,
      "metadata": {
        "id": "t92EXoNgPmr0"
      },
      "outputs": [],
      "source": [
        "import torch\n",
        "from diffusers import StableDiffusionPipeline, StableDiffusionInpaintPipeline\n",
        "\n",
        "model_name = \"CompVis/stable-diffusion-v1-4\""
      ]
    },
    {
      "cell_type": "code",
      "execution_count": null,
      "metadata": {
        "id": "MYZ5A7ZrP5x8"
      },
      "outputs": [],
      "source": [
        "generate = StableDiffusionPipeline.from_pretrained(\n",
        "    model_name, \n",
        "    use_auth_token=True,\n",
        "    torch_dtype=torch.float16, \n",
        "    revision=\"fp16\",\n",
        ").to('cuda')"
      ]
    },
    {
      "cell_type": "code",
      "execution_count": null,
      "metadata": {
        "id": "mtCmvjIGQAVb"
      },
      "outputs": [],
      "source": [
        "inpaint = StableDiffusionInpaintPipeline(\n",
        "    vae=generate.vae,\n",
        "    unet=generate.unet,\n",
        "    scheduler=generate.scheduler,\n",
        "    tokenizer=generate.tokenizer,\n",
        "    text_encoder=generate.text_encoder,\n",
        "    safety_checker=generate.safety_checker,\n",
        "    feature_extractor=generate.feature_extractor,\n",
        ").to('cuda')"
      ]
    },
    {
      "cell_type": "code",
      "execution_count": null,
      "metadata": {
        "id": "-6fj-PExQrKY"
      },
      "outputs": [],
      "source": [
        "# Parameters\n",
        "num_images = 6\n",
        "base_width = 768\n",
        "base_height = 512\n",
        "num_steps = 100\n",
        "inpaint_strength = 0.75\n",
        "prompt = 'a gorgeous street in a futuristic solarpunk city'"
      ]
    },
    {
      "cell_type": "code",
      "execution_count": null,
      "metadata": {
        "id": "jirrqlzcRXQ8"
      },
      "outputs": [],
      "source": [
        "# test if image is good\n",
        "with torch.autocast('cuda'):\n",
        "    img = generate(\n",
        "        prompt=prompt,\n",
        "        num_inference_steps=num_steps,\n",
        "        width=base_width,\n",
        "        height=base_height,\n",
        "    ).images[0]\n",
        "display(img)"
      ]
    },
    {
      "cell_type": "code",
      "execution_count": null,
      "metadata": {
        "id": "quNiL9K6R1tr"
      },
      "outputs": [],
      "source": [
        "# Generate images\n",
        "imgs = []\n",
        "with torch.autocast('cuda'):\n",
        "    for _ in range(num_images):\n",
        "        img = generate(\n",
        "            prompt=prompt,\n",
        "            num_inference_steps=num_steps,\n",
        "            width=base_width,\n",
        "            height=base_height,\n",
        "        ).images[0]\n",
        "        display(img)\n",
        "        imgs.append(img)"
      ]
    },
    {
      "cell_type": "code",
      "execution_count": null,
      "metadata": {
        "tags": [],
        "id": "4eSGqEk_AqNd"
      },
      "outputs": [],
      "source": [
        "# Stitch images\n",
        "import numpy as np\n",
        "from PIL import Image, ImageDraw\n",
        "\n",
        "output = imgs[0]\n",
        "\n",
        "for img in tqdm(imgs[1:] + [imgs[0]]):\n",
        "    w,h = output.size\n",
        "    new = Image.new('RGB', (base_width, base_height))\n",
        "    new.paste(output, (-w+base_width//2, 0))\n",
        "    new.paste(img, (base_width//2, 0))\n",
        "\n",
        "    msk = Image.new('L', (base_width, base_height))\n",
        "    drw = ImageDraw.Draw(msk)\n",
        "    drw.rectangle((base_width//4, 0, 3*base_width//4, base_height), fill=255)\n",
        "\n",
        "    with torch.autocast(\"cuda\"):\n",
        "        merged = inpaint(\n",
        "            prompt=prompt,\n",
        "            init_image=new,\n",
        "            mask_image=msk,\n",
        "            strength=inpaint_strength,\n",
        "            num_inference_steps=num_steps,\n",
        "        ).images[0]\n",
        "\n",
        "    new = Image.new('RGB', (w+base_width, base_height))\n",
        "    new.paste(output, (0, 0))\n",
        "    new.paste(merged, (w-base_width//2, 0))\n",
        "    img = img.crop((base_width//2, 0, base_width, base_height))\n",
        "    new.paste(img, (w+base_width//2, 0))\n",
        "    output = new\n",
        "\n",
        "w, h = output.size\n",
        "output = output.crop((base_width//2, 0, w-base_width//2, h))"
      ]
    },
    {
      "cell_type": "code",
      "execution_count": null,
      "metadata": {
        "id": "0c2E_fKHAqNd"
      },
      "outputs": [],
      "source": [
        "# add borders\n",
        "w, h = output.size\n",
        "panorama = Image.new('RGB', (w, 3*h))\n",
        "panorama.paste(output, (0, h))\n",
        "display(panorama)"
      ]
    },
    {
      "cell_type": "code",
      "execution_count": null,
      "metadata": {
        "id": "jSOEhocPgBPq"
      },
      "outputs": [],
      "source": [
        "# save the image and upload here to view:\n",
        "# https://renderstuff.com/tools/360-panorama-web-viewer/"
      ]
    }
  ],
  "metadata": {
    "accelerator": "GPU",
    "colab": {
      "collapsed_sections": [],
      "machine_shape": "hm",
      "private_outputs": true,
      "provenance": [],
      "include_colab_link": true
    },
    "environment": {
      "kernel": "python3",
      "name": "pytorch-gpu.1-12.m97",
      "type": "gcloud",
      "uri": "gcr.io/deeplearning-platform-release/pytorch-gpu.1-12:m97"
    },
    "gpuClass": "standard",
    "kernelspec": {
      "display_name": "Python 3",
      "language": "python",
      "name": "python3"
    },
    "language_info": {
      "codemirror_mode": {
        "name": "ipython",
        "version": 3
      },
      "file_extension": ".py",
      "mimetype": "text/x-python",
      "name": "python",
      "nbconvert_exporter": "python",
      "pygments_lexer": "ipython3",
      "version": "3.7.12"
    }
  },
  "nbformat": 4,
  "nbformat_minor": 0
}
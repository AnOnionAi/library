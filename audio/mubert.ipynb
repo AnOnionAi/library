{
  "nbformat": 4,
  "nbformat_minor": 0,
  "metadata": {
    "colab": {
      "provenance": [],
      "include_colab_link": true
    },
    "kernelspec": {
      "name": "python3",
      "display_name": "Python 3"
    },
    "language_info": {
      "name": "python"
    }
  },
  "cells": [
    {
      "cell_type": "markdown",
      "metadata": {
        "id": "view-in-github",
        "colab_type": "text"
      },
      "source": [
        "<a href=\"https://colab.research.google.com/github/ZetiAi/library/blob/master/mubert.ipynb\" target=\"_parent\"><img src=\"https://colab.research.google.com/assets/colab-badge.svg\" alt=\"Open In Colab\"/></a>"
      ]
    },
    {
      "cell_type": "code",
      "execution_count": null,
      "metadata": {
        "id": "TpLYsqnJng4T"
      },
      "outputs": [],
      "source": [
        "!git clone https://huggingface.co/spaces/Mubert/Text-to-Music"
      ]
    },
    {
      "cell_type": "code",
      "source": [
        "cd Text-to-Music"
      ],
      "metadata": {
        "id": "_YlH7xEpnjeN"
      },
      "execution_count": null,
      "outputs": []
    },
    {
      "cell_type": "code",
      "source": [
        "!pip install -r requirements.txt"
      ],
      "metadata": {
        "id": "VssnH7iEnl5R"
      },
      "execution_count": null,
      "outputs": []
    },
    {
      "cell_type": "code",
      "source": [
        "!pip install gradio"
      ],
      "metadata": {
        "id": "H6GssMtWnz0E"
      },
      "execution_count": null,
      "outputs": []
    },
    {
      "cell_type": "code",
      "source": [
        "import time\n",
        "\n",
        "import gradio as gr\n",
        "from sentence_transformers import SentenceTransformer\n",
        "\n",
        "import httpx\n",
        "import json\n",
        "\n",
        "from utils import get_tags_for_prompts, get_mubert_tags_embeddings, get_pat\n",
        "\n",
        "minilm = SentenceTransformer('all-MiniLM-L6-v2')\n",
        "mubert_tags_embeddings = get_mubert_tags_embeddings(minilm)\n",
        "\n",
        "\n",
        "def get_track_by_tags(tags, pat, duration, maxit=20, loop=False):\n",
        "    if loop:\n",
        "        mode = \"loop\"\n",
        "    else:\n",
        "        mode = \"track\"\n",
        "    r = httpx.post('https://api-b2b.mubert.com/v2/RecordTrackTTM',\n",
        "                   json={\n",
        "                       \"method\": \"RecordTrackTTM\",\n",
        "                       \"params\": {\n",
        "                           \"pat\": pat,\n",
        "                           \"duration\": duration,\n",
        "                           \"tags\": tags,\n",
        "                           \"mode\": mode\n",
        "                       }\n",
        "                   })\n",
        "\n",
        "    rdata = json.loads(r.text)\n",
        "    assert rdata['status'] == 1, rdata['error']['text']\n",
        "    trackurl = rdata['data']['tasks'][0]['download_link']\n",
        "\n",
        "    print('Generating track ', end='')\n",
        "    for i in range(maxit):\n",
        "        r = httpx.get(trackurl)\n",
        "        if r.status_code == 200:\n",
        "            return trackurl\n",
        "        time.sleep(1)\n",
        "\n",
        "\n",
        "def generate_track_by_prompt(email, prompt, duration, loop=False):\n",
        "    pat = get_pat(email)\n",
        "    _, tags = get_tags_for_prompts(minilm, mubert_tags_embeddings, [prompt, ])[0]\n",
        "\n",
        "    try:\n",
        "        return get_track_by_tags(tags, pat, int(duration), loop=loop)\n",
        "    except Exception as e:\n",
        "        print(str(e))\n",
        "        print('\\n')\n",
        "\n",
        "\n",
        "iface = gr.Interface(fn=generate_track_by_prompt, inputs=[\"text\", \"text\", gr.Slider(label=\"duration (seconds)\", value=30)], outputs=gr.Audio())\n",
        "iface.launch()"
      ],
      "metadata": {
        "id": "TLp-b5Nbnq3Y"
      },
      "execution_count": null,
      "outputs": []
    },
    {
      "cell_type": "code",
      "source": [],
      "metadata": {
        "id": "JYg1eqOXny1f"
      },
      "execution_count": null,
      "outputs": []
    }
  ]
}